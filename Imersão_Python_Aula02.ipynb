{
  "nbformat": 4,
  "nbformat_minor": 0,
  "metadata": {
    "colab": {
      "provenance": [],
      "toc_visible": true,
      "authorship_tag": "ABX9TyPk7dgyqqZPnD4XFITVY1kE",
      "include_colab_link": true
    },
    "kernelspec": {
      "name": "python3",
      "display_name": "Python 3"
    },
    "language_info": {
      "name": "python"
    }
  },
  "cells": [
    {
      "cell_type": "markdown",
      "metadata": {
        "id": "view-in-github",
        "colab_type": "text"
      },
      "source": [
        "<a href=\"https://colab.research.google.com/github/DiasDF/ImersaoPython/blob/main/Imers%C3%A3o_Python_Aula02.ipynb\" target=\"_parent\"><img src=\"https://colab.research.google.com/assets/colab-badge.svg\" alt=\"Open In Colab\"/></a>"
      ]
    },
    {
      "cell_type": "markdown",
      "source": [
        "AULA 02\n",
        "\n",
        "**Importação de Arquivos: Planilha.xlsx**"
      ],
      "metadata": {
        "id": "E6_S-K4aDm7P"
      }
    },
    {
      "cell_type": "code",
      "execution_count": null,
      "metadata": {
        "id": "QRmwqYBaDZmD"
      },
      "outputs": [],
      "source": [
        "import pandas as pd"
      ]
    },
    {
      "cell_type": "markdown",
      "source": [
        "DF = DataFrame\n",
        "pd.read_excell = Panda Read Exell\n",
        "sheet_name = Nome da Página da Planilha\n",
        "\n",
        "<!-- /////// -->\n",
        "**1-Importar as Planilhas para o Colab Python**"
      ],
      "metadata": {
        "id": "cSpFa8BvabIE"
      }
    },
    {
      "cell_type": "code",
      "source": [
        "df_principal = pd.read_excell(\"/content/acoes_pura.xlsx\", sheet_name=\"Principal\")\n",
        "df_principal"
      ],
      "metadata": {
        "id": "U2ZQEBH_aiwt"
      },
      "execution_count": null,
      "outputs": []
    },
    {
      "cell_type": "markdown",
      "source": [
        "<!-- /////// -->\n",
        "**2-Excluir as colunas inservíveis\n",
        ".copy() = Sobrescreve o valor na df_principal antiga**"
      ],
      "metadata": {
        "id": "EQxCJo5paptZ"
      }
    },
    {
      "cell_type": "code",
      "source": [
        "df_principal = df_principal[['Ativo', 'Data', 'Último (R$)', 'Var. dia (%)']].copy()\n",
        "df_principal"
      ],
      "metadata": {
        "id": "58c4GmZpavQF"
      },
      "execution_count": null,
      "outputs": []
    },
    {
      "cell_type": "markdown",
      "source": [
        "OBSERVAÇÕES:\n",
        "**OS NOMES DAS COLUNAS DEVEM SER ESCRITOS EXATAMENTE IGUAIS\n",
        "** PYTHON NÃO ACEITA CARATERES ESPECIAIS PARA NOMES (+-$%#)\n",
        "** SÓ ACEITA NÚMEROS E LETRAS\n",
        "\n",
        "\n",
        "<!-- /////// -->\n",
        "**3-Mudar os nomes das dataframes**"
      ],
      "metadata": {
        "id": "9q1TVmwOatqu"
      }
    },
    {
      "cell_type": "code",
      "source": [
        "df_principal = df_principal.rename(columns={'Último (R$)':'valor_final', 'Var. dia (%)':'var_dia_pct'}).copy\n",
        "df_principal"
      ],
      "metadata": {
        "id": "gSfrq7gpbA-b"
      },
      "execution_count": null,
      "outputs": []
    },
    {
      "cell_type": "markdown",
      "source": [
        "**4-Fazer as Configurações e Cálculos das Colunas**"
      ],
      "metadata": {
        "id": "ziaJaJmqa4Ju"
      }
    },
    {
      "cell_type": "code",
      "source": [
        "df_principal['var_pct'] = df_principal['var_dia_pct'] / 100\n",
        "\n",
        "df_principal['valor_inicial'] = df_principal['valor_final'] / (df_principal['var_pct']+1)\n",
        "df_principal"
      ],
      "metadata": {
        "id": "_IoaX0z5hGTt"
      },
      "execution_count": null,
      "outputs": []
    },
    {
      "cell_type": "markdown",
      "source": [
        "**5-VLOOKUP - PROCV Conectar duas planilhas**\n",
        "\n",
        "\n",
        "MERGE = Copia e Adiciona uma outra tabela;\n",
        "\n",
        "df_total_acoes = Tabela a ser importada;\n",
        "\n",
        "left_on='Ativo' = Coluna/Chave da Tabela atual para referênciar;\n",
        "\n",
        "right_on='Código' = Coluna/Chave da Tabela a ser importada para referênciar;\n",
        "\n",
        "how='left' = C"
      ],
      "metadata": {
        "id": "_tzSS5LRhJj3"
      }
    },
    {
      "cell_type": "code",
      "source": [
        "df_principal = df_principal.merge(df_total_acoes, left_on='Ativo', right_on='Código', how='left')\n",
        "df_principal"
      ],
      "metadata": {
        "id": "wOSBzkvAhX1E"
      },
      "execution_count": null,
      "outputs": []
    },
    {
      "cell_type": "markdown",
      "source": [
        "**6-DROP COLUM - Remover a coluna**"
      ],
      "metadata": {
        "id": "1GwzHnn9hfzk"
      }
    },
    {
      "cell_type": "code",
      "source": [
        "df_principal = df_principal.drop(columns=['Código'])\n",
        "df_principal"
      ],
      "metadata": {
        "id": "9ITBYEJLhb78"
      },
      "execution_count": null,
      "outputs": []
    },
    {
      "cell_type": "markdown",
      "source": [
        "**7-Criar coluna Variação em Reais (O)**"
      ],
      "metadata": {
        "id": "NGB0ZbrEhkwj"
      }
    },
    {
      "cell_type": "code",
      "source": [
        "df_principal['variacao_rs'] = (df_principal['valor_final'] - df_principal['valor_inicial'])*df_principal['Qtde. Teórica']\n",
        "df_principal"
      ],
      "metadata": {
        "id": "pnsI4qhnhqCG"
      },
      "execution_count": null,
      "outputs": []
    },
    {
      "cell_type": "markdown",
      "source": [
        "**8-Formatar tipos de dados de \"Notação Científica\" para \"float\"**"
      ],
      "metadata": {
        "id": "eTjBMvSUiJL7"
      }
    },
    {
      "cell_type": "code",
      "source": [
        "pd.options.display.float_format = '{:.2f}'.format"
      ],
      "metadata": {
        "id": "F3-6AFuUiLP1"
      },
      "execution_count": null,
      "outputs": []
    },
    {
      "cell_type": "markdown",
      "source": [],
      "metadata": {
        "id": "SN5EbTgZi0_k"
      }
    }
  ]
}